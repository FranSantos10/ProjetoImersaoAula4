{
  "nbformat": 4,
  "nbformat_minor": 0,
  "metadata": {
    "colab": {
      "provenance": [],
      "authorship_tag": "ABX9TyMS75mRdp83rBNkxeFFl6kP",
      "include_colab_link": true
    },
    "kernelspec": {
      "name": "python3",
      "display_name": "Python 3"
    },
    "language_info": {
      "name": "python"
    }
  },
  "cells": [
    {
      "cell_type": "markdown",
      "metadata": {
        "id": "view-in-github",
        "colab_type": "text"
      },
      "source": [
        "<a href=\"https://colab.research.google.com/github/FranSantos10/ProjetoImersaoAula4/blob/main/aula4.ipynb\" target=\"_parent\"><img src=\"https://colab.research.google.com/assets/colab-badge.svg\" alt=\"Open In Colab\"/></a>"
      ]
    },
    {
      "cell_type": "code",
      "execution_count": null,
      "metadata": {
        "colab": {
          "base_uri": "https://localhost:8080/"
        },
        "id": "gyJAQEkORl3U",
        "outputId": "aaccef68-7ec7-489c-c418-530aec73bddd"
      },
      "outputs": [
        {
          "output_type": "stream",
          "name": "stdout",
          "text": [
            "\u001b[2K     \u001b[90m━━━━━━━━━━━━━━━━━━━━━━━━━━━━━━━━━━━━━━━━\u001b[0m \u001b[32m150.7/150.7 kB\u001b[0m \u001b[31m2.2 MB/s\u001b[0m eta \u001b[36m0:00:00\u001b[0m\n",
            "\u001b[2K     \u001b[90m━━━━━━━━━━━━━━━━━━━━━━━━━━━━━━━━━━━━━━━━\u001b[0m \u001b[32m677.8/677.8 kB\u001b[0m \u001b[31m9.5 MB/s\u001b[0m eta \u001b[36m0:00:00\u001b[0m\n",
            "\u001b[?25h"
          ]
        }
      ],
      "source": [
        "!pip install -q -U google-generativeai\n"
      ]
    },
    {
      "cell_type": "code",
      "source": [
        "import google.generativeai as genai\n",
        "\n",
        "GOOGLE_API_KEY= \"Cole sua API\"\n",
        "\n",
        "genai.configure(api_key=GOOGLE_API_KEY)"
      ],
      "metadata": {
        "id": "J73xI1p-RzEQ"
      },
      "execution_count": null,
      "outputs": []
    },
    {
      "cell_type": "markdown",
      "source": [
        "Listar os modelos disponiveis"
      ],
      "metadata": {
        "id": "Av7BstovR9O9"
      }
    },
    {
      "cell_type": "code",
      "source": [
        "for modelo in genai.list_models():\n",
        "  if 'generateContent' in modelo.supported_generation_methods:\n",
        "    print(modelo.name)"
      ],
      "metadata": {
        "colab": {
          "base_uri": "https://localhost:8080/",
          "height": 139
        },
        "id": "1u7hfNJ_SGJR",
        "outputId": "cb94d860-2a25-41da-9e79-259bb903d7f2"
      },
      "execution_count": null,
      "outputs": [
        {
          "output_type": "stream",
          "name": "stdout",
          "text": [
            "models/gemini-1.0-pro\n",
            "models/gemini-1.0-pro-001\n",
            "models/gemini-1.0-pro-latest\n",
            "models/gemini-1.0-pro-vision-latest\n",
            "models/gemini-1.5-pro-latest\n",
            "models/gemini-pro\n",
            "models/gemini-pro-vision\n"
          ]
        }
      ]
    },
    {
      "cell_type": "code",
      "source": [
        "GenerationConfig ={\n",
        "    \"candidate_count\": 1,\n",
        "    \"temperature\" : 0.5,\n",
        "\n",
        "}"
      ],
      "metadata": {
        "id": "lilxS0coUK9V"
      },
      "execution_count": null,
      "outputs": []
    },
    {
      "cell_type": "code",
      "source": [
        "modelo = genai.GenerativeModel(model_name=\"gemini-1.0-pro\",\n",
        "generation_config = GenerationConfig)"
      ],
      "metadata": {
        "id": "1JXC0wahYEnQ"
      },
      "execution_count": null,
      "outputs": []
    },
    {
      "cell_type": "code",
      "source": [
        "response = modelo.generate_content(\"Vamos aprender sobre IA. Me dê sugestões.\")\n",
        "print(response.text)"
      ],
      "metadata": {
        "colab": {
          "base_uri": "https://localhost:8080/",
          "height": 694
        },
        "collapsed": true,
        "id": "altE0INmZUjX",
        "outputId": "71f31a25-dfca-4967-e149-dcaf9aa2f28e"
      },
      "execution_count": null,
      "outputs": [
        {
          "output_type": "stream",
          "name": "stdout",
          "text": [
            "**Recursos Online:**\n",
            "\n",
            "* **Coursera:** Cursos gratuitos e pagos sobre IA, aprendizado de máquina e ciência de dados\n",
            "* **edX:** Cursos online de universidades e empresas líderes\n",
            "* **Udemy:** Cursos abrangentes sobre tópicos de IA\n",
            "* **MIT OpenCourseWare:** Materiais de cursos de IA do Massachusetts Institute of Technology\n",
            "* **Stanford Online:** Cursos e palestras online da Universidade de Stanford\n",
            "\n",
            "**Livros:**\n",
            "\n",
            "* **Inteligência Artificial: Uma Abordagem Moderna** (Stuart Russell e Peter Norvig)\n",
            "* **Aprendizado de Máquina** (Tom Mitchell)\n",
            "* **Aprendizado Profundo** (Ian Goodfellow, Yoshua Bengio e Aaron Courville)\n",
            "* **IA para Todos** (Andrew Ng)\n",
            "* **A Vida 3.0: Ser Humano na Era da Inteligência Artificial** (Max Tegmark)\n",
            "\n",
            "**Comunidades e Fóruns:**\n",
            "\n",
            "* **Stack Overflow:** Fórum de perguntas e respostas para desenvolvedores de IA\n",
            "* **Reddit:** Subreddits como /r/artificial e /r/machinelearning\n",
            "* **Discord:** Servidores dedicados à discussão e aprendizado de IA\n",
            "* **Meetup:** Eventos presenciais e online para entusiastas de IA\n",
            "* **Conferências:** Eventos anuais como NeurIPS e ICML, onde especialistas compartilham pesquisas e desenvolvimentos\n",
            "\n",
            "**Projetos Práticos:**\n",
            "\n",
            "* **Kaggle:** Plataforma para competições de ciência de dados e aprendizado de máquina\n",
            "* **TensorFlow Playground:** Ambiente online para explorar modelos de aprendizado de máquina\n",
            "* **OpenAI Gym:** Biblioteca para criar e treinar agentes de aprendizado por reforço\n",
            "* **PyTorch Tutorials:** Tutoriais práticos para desenvolver aplicações de IA\n",
            "* **Scikit-learn:** Biblioteca Python para aprendizado de máquina e análise de dados\n",
            "\n",
            "**Outras Sugestões:**\n",
            "\n",
            "* **Assistir a palestras do TED Talk:** Pesquise \"IA\" ou \"Aprendizado de Máquina\" para obter insights inspiradores\n",
            "* **Ler artigos de pesquisa:** Explore periódicos como Nature Machine Intelligence e Journal of Machine Learning Research\n",
            "* **Participar de hackathons:** Junte-se a eventos que desafiam os participantes a desenvolver soluções de IA\n",
            "* **Conectar-se com profissionais de IA:** Participe de grupos do LinkedIn ou eventos do setor\n",
            "* **Experimentar com ferramentas de IA:** Explore plataformas como ChatGPT e Dall-E 2 para entender as capacidades e limitações da IA\n"
          ]
        }
      ]
    },
    {
      "cell_type": "code",
      "source": [
        "chat = modelo.start_chat(history=[])"
      ],
      "metadata": {
        "id": "ADsL591JZwNI"
      },
      "execution_count": null,
      "outputs": []
    },
    {
      "cell_type": "code",
      "source": [
        "prompt = input(\"Esperando o prompt: \")\n",
        "\n",
        "while prompt != \"fim\":\n",
        "  response = chat.send_message(prompt)\n",
        "\n",
        "  print(\"Resposta: \",response.text, \"\\n\")\n",
        "\n",
        "  prompt = input(\"Esperando o prompt:\")"
      ],
      "metadata": {
        "colab": {
          "base_uri": "https://localhost:8080/",
          "height": 228
        },
        "id": "WSN4z06zaLWd",
        "outputId": "68795010-dd0f-4811-8f21-ce939cb24fe0"
      },
      "execution_count": null,
      "outputs": [
        {
          "name": "stdout",
          "output_type": "stream",
          "text": [
            "Esperando o prompt: Qual a capital da coreia?\n",
            "Resposta:  Seul\n",
            "\n",
            "Seul é a capital e maior cidade da Coreia do Sul. É uma metrópole vibrante e moderna, com uma rica história e cultura. Seul é o centro político, econômico e cultural da Coreia do Sul, e abriga muitos marcos famosos, como o Palácio Gyeongbokgung, a Torre N de Seul e o Mercado de Namdaemun. \n",
            "\n",
            "Esperando o prompt:Qual a comida tipica deste pais?\n",
            "Resposta:  Kimchi\n",
            "\n",
            "O kimchi é um prato tradicional coreano feito de vegetais fermentados, geralmente repolho e rabanete, temperados com pimenta em pó, alho, gengibre e outros temperos. É um acompanhamento essencial na culinária coreana e é frequentemente servido com arroz, macarrão ou outros pratos. \n",
            "\n",
            "Esperando o prompt:fim\n"
          ]
        }
      ]
    },
    {
      "cell_type": "code",
      "source": [
        "chat\n"
      ],
      "metadata": {
        "colab": {
          "base_uri": "https://localhost:8080/"
        },
        "id": "NOBbnwbHcL6R",
        "outputId": "aa394f1e-7dcc-4cba-9580-6cb535dd3116"
      },
      "execution_count": null,
      "outputs": [
        {
          "output_type": "execute_result",
          "data": {
            "text/plain": [
              "ChatSession(\n",
              "    model=genai.GenerativeModel(\n",
              "        model_name='models/gemini-1.0-pro',\n",
              "        generation_config={'candidate_count': 1, 'temperature': 0.5},\n",
              "        safety_settings={},\n",
              "        tools=None,\n",
              "        system_instruction=None,\n",
              "    ),\n",
              "    history=[glm.Content({'parts': [{'text': 'Qual a capit... corea do sul'}], 'role': 'user'}), glm.Content({'parts': [{'text': 'Seul'}], 'role': 'model'}), glm.Content({'parts': [{'text': 'qual a comid...ca deste pais'}], 'role': 'user'}), glm.Content({'parts': [{'text': 'Kimchi\\n\\nO ...utros pratos.'}], 'role': 'model'}), glm.Content({'parts': [{'text': 'Qual a capital da coreia?'}], 'role': 'user'}), glm.Content({'parts': [{'text': 'Seul\\n\\nSeul...de Namdaemun.'}], 'role': 'model'}), glm.Content({'parts': [{'text': 'Qual a comid...a deste pais?'}], 'role': 'user'}), glm.Content({'parts': [{'text': 'Kimchi\\n\\nO ...utros pratos.'}], 'role': 'model'})]\n",
              ")"
            ]
          },
          "metadata": {},
          "execution_count": 17
        }
      ]
    },
    {
      "cell_type": "code",
      "source": [
        "chat.history\n"
      ],
      "metadata": {
        "colab": {
          "base_uri": "https://localhost:8080/"
        },
        "id": "Y6W9ZwAecOC0",
        "outputId": "226e75dc-99cc-4a5f-af52-e7160932490c"
      },
      "execution_count": null,
      "outputs": [
        {
          "output_type": "execute_result",
          "data": {
            "text/plain": [
              "[parts {\n",
              "   text: \"Qual a capital da corea do sul\"\n",
              " }\n",
              " role: \"user\",\n",
              " parts {\n",
              "   text: \"Seul\"\n",
              " }\n",
              " role: \"model\",\n",
              " parts {\n",
              "   text: \"qual a comida tipica deste pais\"\n",
              " }\n",
              " role: \"user\",\n",
              " parts {\n",
              "   text: \"Kimchi\\n\\nO kimchi \\303\\251 um prato tradicional coreano feito de vegetais fermentados, geralmente repolho e rabanete, temperados com pimenta em p\\303\\263, alho, gengibre e outros temperos. \\303\\211 um acompanhamento essencial na culin\\303\\241ria coreana e \\303\\251 frequentemente servido com arroz, macarr\\303\\243o ou outros pratos.\"\n",
              " }\n",
              " role: \"model\",\n",
              " parts {\n",
              "   text: \"Qual a capital da coreia?\"\n",
              " }\n",
              " role: \"user\",\n",
              " parts {\n",
              "   text: \"Seul\\n\\nSeul \\303\\251 a capital e maior cidade da Coreia do Sul. \\303\\211 uma metr\\303\\263pole vibrante e moderna, com uma rica hist\\303\\263ria e cultura. Seul \\303\\251 o centro pol\\303\\255tico, econ\\303\\264mico e cultural da Coreia do Sul, e abriga muitos marcos famosos, como o Pal\\303\\241cio Gyeongbokgung, a Torre N de Seul e o Mercado de Namdaemun.\"\n",
              " }\n",
              " role: \"model\",\n",
              " parts {\n",
              "   text: \"Qual a comida tipica deste pais?\"\n",
              " }\n",
              " role: \"user\",\n",
              " parts {\n",
              "   text: \"Kimchi\\n\\nO kimchi \\303\\251 um prato tradicional coreano feito de vegetais fermentados, geralmente repolho e rabanete, temperados com pimenta em p\\303\\263, alho, gengibre e outros temperos. \\303\\211 um acompanhamento essencial na culin\\303\\241ria coreana e \\303\\251 frequentemente servido com arroz, macarr\\303\\243o ou outros pratos.\"\n",
              " }\n",
              " role: \"model\"]"
            ]
          },
          "metadata": {},
          "execution_count": 18
        }
      ]
    }
  ]
}